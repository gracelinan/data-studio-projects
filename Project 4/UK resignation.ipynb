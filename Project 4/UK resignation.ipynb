{
 "cells": [
  {
   "cell_type": "code",
   "execution_count": 1,
   "metadata": {},
   "outputs": [],
   "source": [
    "import pandas as pd\n",
    "import matplotlib\n",
    "import matplotlib.pyplot as plt\n",
    "%matplotlib inline"
   ]
  },
  {
   "cell_type": "code",
   "execution_count": 2,
   "metadata": {},
   "outputs": [],
   "source": [
    "plt.rcParams.update({\n",
    "    'pdf.fonttype': 42,\n",
    "    'ps.fonttype': 42\n",
    "})"
   ]
  },
  {
   "cell_type": "code",
   "execution_count": 3,
   "metadata": {},
   "outputs": [],
   "source": [
    "df = pd.read_csv(\"resignations.csv\")"
   ]
  },
  {
   "cell_type": "code",
   "execution_count": 4,
   "metadata": {},
   "outputs": [
    {
     "data": {
      "text/plain": [
       "May         41\n",
       "Blair       29\n",
       "Thatcher    26\n",
       "Major       23\n",
       "Brown       17\n",
       "Cameron     15\n",
       "Name: PM, dtype: int64"
      ]
     },
     "execution_count": 4,
     "metadata": {},
     "output_type": "execute_result"
    }
   ],
   "source": [
    "df.PM.value_counts()"
   ]
  },
  {
   "cell_type": "code",
   "execution_count": 5,
   "metadata": {},
   "outputs": [],
   "source": [
    "df['Year'] = df.Date.str.extract(\".*/(\\d{4})$\", expand=False)"
   ]
  },
  {
   "cell_type": "code",
   "execution_count": 6,
   "metadata": {},
   "outputs": [
    {
     "data": {
      "text/html": [
       "<div>\n",
       "<style scoped>\n",
       "    .dataframe tbody tr th:only-of-type {\n",
       "        vertical-align: middle;\n",
       "    }\n",
       "\n",
       "    .dataframe tbody tr th {\n",
       "        vertical-align: top;\n",
       "    }\n",
       "\n",
       "    .dataframe thead th {\n",
       "        text-align: right;\n",
       "    }\n",
       "</style>\n",
       "<table border=\"1\" class=\"dataframe\">\n",
       "  <thead>\n",
       "    <tr style=\"text-align: right;\">\n",
       "      <th></th>\n",
       "      <th>PM</th>\n",
       "      <th>Surname</th>\n",
       "      <th>Post</th>\n",
       "      <th>Date</th>\n",
       "      <th>Reason</th>\n",
       "      <th>Type</th>\n",
       "      <th>Link</th>\n",
       "      <th>Cabinet?</th>\n",
       "      <th>Year</th>\n",
       "    </tr>\n",
       "  </thead>\n",
       "  <tbody>\n",
       "    <tr>\n",
       "      <th>0</th>\n",
       "      <td>Thatcher</td>\n",
       "      <td>Speed</td>\n",
       "      <td>Defence</td>\n",
       "      <td>18/5/1981</td>\n",
       "      <td>Chose not to resign over opposition to Navy cuts</td>\n",
       "      <td>Sacked</td>\n",
       "      <td>https://en.wikipedia.org/wiki/Keith_Speed</td>\n",
       "      <td>NaN</td>\n",
       "      <td>1981</td>\n",
       "    </tr>\n",
       "    <tr>\n",
       "      <th>1</th>\n",
       "      <td>Thatcher</td>\n",
       "      <td>Fairbairn</td>\n",
       "      <td>Solicitor Gen (Scot)</td>\n",
       "      <td>21/01/1982</td>\n",
       "      <td>Handling of a Scottish prosecution</td>\n",
       "      <td>Standards</td>\n",
       "      <td>https://www.margaretthatcher.org/document/104858</td>\n",
       "      <td>NaN</td>\n",
       "      <td>1982</td>\n",
       "    </tr>\n",
       "    <tr>\n",
       "      <th>2</th>\n",
       "      <td>Thatcher</td>\n",
       "      <td>Oppenheim</td>\n",
       "      <td>Trade</td>\n",
       "      <td>05/03/1982</td>\n",
       "      <td>Personal - death of husband</td>\n",
       "      <td>Personal/other</td>\n",
       "      <td>https://www.margaretthatcher.org/document/104871</td>\n",
       "      <td>NaN</td>\n",
       "      <td>1982</td>\n",
       "    </tr>\n",
       "    <tr>\n",
       "      <th>3</th>\n",
       "      <td>Thatcher</td>\n",
       "      <td>Carrington</td>\n",
       "      <td>Foreign Office</td>\n",
       "      <td>05/04/1982</td>\n",
       "      <td>Falklands</td>\n",
       "      <td>Accountability</td>\n",
       "      <td>https://www.margaretthatcher.org/document/104911</td>\n",
       "      <td>Y</td>\n",
       "      <td>1982</td>\n",
       "    </tr>\n",
       "    <tr>\n",
       "      <th>4</th>\n",
       "      <td>Thatcher</td>\n",
       "      <td>Atkins</td>\n",
       "      <td>Lord Privy Seal</td>\n",
       "      <td>05/04/1982</td>\n",
       "      <td>Falklands</td>\n",
       "      <td>Accountability</td>\n",
       "      <td>https://www.margaretthatcher.org/document/104911</td>\n",
       "      <td>Y</td>\n",
       "      <td>1982</td>\n",
       "    </tr>\n",
       "  </tbody>\n",
       "</table>\n",
       "</div>"
      ],
      "text/plain": [
       "         PM     Surname                  Post        Date  \\\n",
       "0  Thatcher       Speed               Defence   18/5/1981   \n",
       "1  Thatcher   Fairbairn  Solicitor Gen (Scot)  21/01/1982   \n",
       "2  Thatcher   Oppenheim                 Trade  05/03/1982   \n",
       "3  Thatcher  Carrington        Foreign Office  05/04/1982   \n",
       "4  Thatcher      Atkins       Lord Privy Seal  05/04/1982   \n",
       "\n",
       "                                             Reason            Type  \\\n",
       "0  Chose not to resign over opposition to Navy cuts          Sacked   \n",
       "1                Handling of a Scottish prosecution       Standards   \n",
       "2                       Personal - death of husband  Personal/other   \n",
       "3                                         Falklands  Accountability   \n",
       "4                                         Falklands  Accountability   \n",
       "\n",
       "                                               Link Cabinet?  Year  \n",
       "0         https://en.wikipedia.org/wiki/Keith_Speed      NaN  1981  \n",
       "1  https://www.margaretthatcher.org/document/104858      NaN  1982  \n",
       "2  https://www.margaretthatcher.org/document/104871      NaN  1982  \n",
       "3  https://www.margaretthatcher.org/document/104911        Y  1982  \n",
       "4  https://www.margaretthatcher.org/document/104911        Y  1982  "
      ]
     },
     "execution_count": 6,
     "metadata": {},
     "output_type": "execute_result"
    }
   ],
   "source": [
    "df.head()"
   ]
  },
  {
   "cell_type": "code",
   "execution_count": 7,
   "metadata": {},
   "outputs": [
    {
     "data": {
      "text/plain": [
       "Personal/other    57\n",
       "Disagreement      48\n",
       "Standards         20\n",
       "Unclear            9\n",
       "Pre-announced      8\n",
       "Accountability     5\n",
       "Sacked             2\n",
       "Temporary          1\n",
       "Pre-arranged       1\n",
       "Name: Type, dtype: int64"
      ]
     },
     "execution_count": 7,
     "metadata": {},
     "output_type": "execute_result"
    }
   ],
   "source": [
    "df.Type.value_counts()"
   ]
  },
  {
   "cell_type": "code",
   "execution_count": 8,
   "metadata": {},
   "outputs": [
    {
     "data": {
      "text/plain": [
       "2019    16\n",
       "2018    16\n",
       "2009    12\n",
       "2017     8\n",
       "1995     8\n",
       "2014     8\n",
       "1982     6\n",
       "2003     5\n",
       "1994     5\n",
       "1990     5\n",
       "Name: Year, dtype: int64"
      ]
     },
     "execution_count": 8,
     "metadata": {},
     "output_type": "execute_result"
    }
   ],
   "source": [
    "df.Year.value_counts().head(10)"
   ]
  },
  {
   "cell_type": "code",
   "execution_count": 9,
   "metadata": {},
   "outputs": [],
   "source": [
    "# df['Year'] = df.Year.astype(int)"
   ]
  },
  {
   "cell_type": "code",
   "execution_count": 10,
   "metadata": {},
   "outputs": [
    {
     "data": {
      "image/png": "[encoded data removed]",
      "text/plain": [
       "<Figure size 1152x432 with 1 Axes>"
      ]
     },
     "metadata": {
      "needs_background": "light"
     },
     "output_type": "display_data"
    }
   ],
   "source": [
    "df.sort_values(by='Year').groupby('Year').size().plot(figsize=(16,6))\n",
    "plt.savefig(\"year.pdf\")"
   ]
  },
  {
   "cell_type": "code",
   "execution_count": 11,
   "metadata": {},
   "outputs": [
    {
     "data": {
      "text/plain": [
       "PM        Type          \n",
       "Blair     Personal/other    17\n",
       "          Disagreement       8\n",
       "          Standards          2\n",
       "          Accountability     1\n",
       "          Unclear            1\n",
       "Brown     Personal/other     6\n",
       "          Disagreement       5\n",
       "          Pre-announced      4\n",
       "          Standards          1\n",
       "          Unclear            1\n",
       "Cameron   Personal/other     6\n",
       "          Standards          4\n",
       "          Disagreement       3\n",
       "          Accountability     1\n",
       "          Pre-arranged       1\n",
       "Major     Personal/other     9\n",
       "          Standards          6\n",
       "          Unclear            4\n",
       "          Disagreement       3\n",
       "          Pre-announced      1\n",
       "May       Disagreement      24\n",
       "          Personal/other     7\n",
       "          Standards          5\n",
       "          Pre-announced      3\n",
       "          Sacked             1\n",
       "          Temporary          1\n",
       "Thatcher  Personal/other    12\n",
       "          Disagreement       5\n",
       "          Accountability     3\n",
       "          Unclear            3\n",
       "          Standards          2\n",
       "          Sacked             1\n",
       "Name: Type, dtype: int64"
      ]
     },
     "execution_count": 11,
     "metadata": {},
     "output_type": "execute_result"
    }
   ],
   "source": [
    " df.groupby('PM').Type.value_counts()"
   ]
  },
  {
   "cell_type": "code",
   "execution_count": 12,
   "metadata": {},
   "outputs": [
    {
     "data": {
      "text/html": [
       "<div>\n",
       "<style scoped>\n",
       "    .dataframe tbody tr th:only-of-type {\n",
       "        vertical-align: middle;\n",
       "    }\n",
       "\n",
       "    .dataframe tbody tr th {\n",
       "        vertical-align: top;\n",
       "    }\n",
       "\n",
       "    .dataframe thead th {\n",
       "        text-align: right;\n",
       "    }\n",
       "</style>\n",
       "<table border=\"1\" class=\"dataframe\">\n",
       "  <thead>\n",
       "    <tr style=\"text-align: right;\">\n",
       "      <th>Type</th>\n",
       "      <th>Accountability</th>\n",
       "      <th>Disagreement</th>\n",
       "      <th>Personal/other</th>\n",
       "      <th>Pre-announced</th>\n",
       "      <th>Pre-arranged</th>\n",
       "      <th>Sacked</th>\n",
       "      <th>Standards</th>\n",
       "      <th>Temporary</th>\n",
       "      <th>Unclear</th>\n",
       "    </tr>\n",
       "    <tr>\n",
       "      <th>PM</th>\n",
       "      <th></th>\n",
       "      <th></th>\n",
       "      <th></th>\n",
       "      <th></th>\n",
       "      <th></th>\n",
       "      <th></th>\n",
       "      <th></th>\n",
       "      <th></th>\n",
       "      <th></th>\n",
       "    </tr>\n",
       "  </thead>\n",
       "  <tbody>\n",
       "    <tr>\n",
       "      <th>Blair</th>\n",
       "      <td>1.0</td>\n",
       "      <td>8.0</td>\n",
       "      <td>17.0</td>\n",
       "      <td>NaN</td>\n",
       "      <td>NaN</td>\n",
       "      <td>NaN</td>\n",
       "      <td>2.0</td>\n",
       "      <td>NaN</td>\n",
       "      <td>1.0</td>\n",
       "    </tr>\n",
       "    <tr>\n",
       "      <th>Brown</th>\n",
       "      <td>NaN</td>\n",
       "      <td>5.0</td>\n",
       "      <td>6.0</td>\n",
       "      <td>4.0</td>\n",
       "      <td>NaN</td>\n",
       "      <td>NaN</td>\n",
       "      <td>1.0</td>\n",
       "      <td>NaN</td>\n",
       "      <td>1.0</td>\n",
       "    </tr>\n",
       "    <tr>\n",
       "      <th>Cameron</th>\n",
       "      <td>1.0</td>\n",
       "      <td>3.0</td>\n",
       "      <td>6.0</td>\n",
       "      <td>NaN</td>\n",
       "      <td>1.0</td>\n",
       "      <td>NaN</td>\n",
       "      <td>4.0</td>\n",
       "      <td>NaN</td>\n",
       "      <td>NaN</td>\n",
       "    </tr>\n",
       "    <tr>\n",
       "      <th>Major</th>\n",
       "      <td>NaN</td>\n",
       "      <td>3.0</td>\n",
       "      <td>9.0</td>\n",
       "      <td>1.0</td>\n",
       "      <td>NaN</td>\n",
       "      <td>NaN</td>\n",
       "      <td>6.0</td>\n",
       "      <td>NaN</td>\n",
       "      <td>4.0</td>\n",
       "    </tr>\n",
       "    <tr>\n",
       "      <th>May</th>\n",
       "      <td>NaN</td>\n",
       "      <td>24.0</td>\n",
       "      <td>7.0</td>\n",
       "      <td>3.0</td>\n",
       "      <td>NaN</td>\n",
       "      <td>1.0</td>\n",
       "      <td>5.0</td>\n",
       "      <td>1.0</td>\n",
       "      <td>NaN</td>\n",
       "    </tr>\n",
       "    <tr>\n",
       "      <th>Thatcher</th>\n",
       "      <td>3.0</td>\n",
       "      <td>5.0</td>\n",
       "      <td>12.0</td>\n",
       "      <td>NaN</td>\n",
       "      <td>NaN</td>\n",
       "      <td>1.0</td>\n",
       "      <td>2.0</td>\n",
       "      <td>NaN</td>\n",
       "      <td>3.0</td>\n",
       "    </tr>\n",
       "  </tbody>\n",
       "</table>\n",
       "</div>"
      ],
      "text/plain": [
       "Type      Accountability  Disagreement  Personal/other  Pre-announced  \\\n",
       "PM                                                                      \n",
       "Blair                1.0           8.0            17.0            NaN   \n",
       "Brown                NaN           5.0             6.0            4.0   \n",
       "Cameron              1.0           3.0             6.0            NaN   \n",
       "Major                NaN           3.0             9.0            1.0   \n",
       "May                  NaN          24.0             7.0            3.0   \n",
       "Thatcher             3.0           5.0            12.0            NaN   \n",
       "\n",
       "Type      Pre-arranged  Sacked  Standards  Temporary  Unclear  \n",
       "PM                                                             \n",
       "Blair              NaN     NaN        2.0        NaN      1.0  \n",
       "Brown              NaN     NaN        1.0        NaN      1.0  \n",
       "Cameron            1.0     NaN        4.0        NaN      NaN  \n",
       "Major              NaN     NaN        6.0        NaN      4.0  \n",
       "May                NaN     1.0        5.0        1.0      NaN  \n",
       "Thatcher           NaN     1.0        2.0        NaN      3.0  "
      ]
     },
     "execution_count": 12,
     "metadata": {},
     "output_type": "execute_result"
    }
   ],
   "source": [
    "df2 = df.groupby(['PM','Type']).size().unstack()\n",
    "df2"
   ]
  },
  {
   "cell_type": "code",
   "execution_count": 13,
   "metadata": {},
   "outputs": [
    {
     "data": {
      "text/plain": [
       "<matplotlib.axes._subplots.AxesSubplot at 0x1195a6e48>"
      ]
     },
     "execution_count": 13,
     "metadata": {},
     "output_type": "execute_result"
    },
    {
     "data": {
      "image/png": "[encoded data removed]",
      "text/plain": [
       "<Figure size 432x288 with 1 Axes>"
      ]
     },
     "metadata": {
      "needs_background": "light"
     },
     "output_type": "display_data"
    }
   ],
   "source": [
    "df2.sort_values(by='Disagreement',ascending=False).plot(y=['Accountability', 'Disagreement', 'Personal/other', 'Pre-announced', 'Pre-arranged', 'Sacked', 'Standards', 'Temporary', 'Unclear'], kind='bar', stacked=True)"
   ]
  },
  {
   "cell_type": "code",
   "execution_count": 18,
   "metadata": {},
   "outputs": [
    {
     "data": {
      "text/plain": [
       "<matplotlib.axes._subplots.AxesSubplot at 0x11c721e48>"
      ]
     },
     "execution_count": 18,
     "metadata": {},
     "output_type": "execute_result"
    },
    {
     "data": {
      "image/png": "[encoded data removed]",
      "text/plain": [
       "<Figure size 432x288 with 1 Axes>"
      ]
     },
     "metadata": {
      "needs_background": "light"
     },
     "output_type": "display_data"
    }
   ],
   "source": [
    "df2.Disagreement.sort_values(ascending=False).plot(kind='bar')"
   ]
  },
  {
   "cell_type": "code",
   "execution_count": null,
   "metadata": {},
   "outputs": [],
   "source": []
  }
 ],
 "metadata": {
  "kernelspec": {
   "display_name": "Python 3",
   "language": "python",
   "name": "python3"
  },
  "language_info": {
   "codemirror_mode": {
    "name": "ipython",
    "version": 3
   },
   "file_extension": ".py",
   "mimetype": "text/x-python",
   "name": "python",
   "nbconvert_exporter": "python",
   "pygments_lexer": "ipython3",
   "version": "3.7.1"
  }
 },
 "nbformat": 4,
 "nbformat_minor": 2
}
