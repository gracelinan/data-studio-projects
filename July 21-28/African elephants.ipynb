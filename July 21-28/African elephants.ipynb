{
 "cells": [
  {
   "cell_type": "code",
   "execution_count": 52,
   "metadata": {},
   "outputs": [],
   "source": [
    "import pandas as pd\n",
    "import matplotlib\n",
    "import matplotlib.pyplot as plt"
   ]
  },
  {
   "cell_type": "code",
   "execution_count": 2,
   "metadata": {},
   "outputs": [
    {
     "data": {
      "text/plain": [
       "(61985, 16)"
      ]
     },
     "execution_count": 2,
     "metadata": {},
     "output_type": "execute_result"
    }
   ],
   "source": [
    "df = pd.read_csv(\"elephants.csv\")\n",
    "df.shape"
   ]
  },
  {
   "cell_type": "code",
   "execution_count": 3,
   "metadata": {
    "scrolled": true
   },
   "outputs": [
    {
     "data": {
      "text/html": [
       "<div>\n",
       "<style scoped>\n",
       "    .dataframe tbody tr th:only-of-type {\n",
       "        vertical-align: middle;\n",
       "    }\n",
       "\n",
       "    .dataframe tbody tr th {\n",
       "        vertical-align: top;\n",
       "    }\n",
       "\n",
       "    .dataframe thead th {\n",
       "        text-align: right;\n",
       "    }\n",
       "</style>\n",
       "<table border=\"1\" class=\"dataframe\">\n",
       "  <thead>\n",
       "    <tr style=\"text-align: right;\">\n",
       "      <th></th>\n",
       "      <th>Year</th>\n",
       "      <th>App.</th>\n",
       "      <th>Taxon</th>\n",
       "      <th>Class</th>\n",
       "      <th>Order</th>\n",
       "      <th>Family</th>\n",
       "      <th>Genus</th>\n",
       "      <th>Importer</th>\n",
       "      <th>Exporter</th>\n",
       "      <th>Origin</th>\n",
       "      <th>Importer reported quantity</th>\n",
       "      <th>Exporter reported quantity</th>\n",
       "      <th>Term</th>\n",
       "      <th>Unit</th>\n",
       "      <th>Purpose</th>\n",
       "      <th>Source</th>\n",
       "    </tr>\n",
       "  </thead>\n",
       "  <tbody>\n",
       "    <tr>\n",
       "      <th>0</th>\n",
       "      <td>1977</td>\n",
       "      <td>II</td>\n",
       "      <td>Loxodonta africana</td>\n",
       "      <td>Mammalia</td>\n",
       "      <td>Proboscidea</td>\n",
       "      <td>Elephantidae</td>\n",
       "      <td>Loxodonta</td>\n",
       "      <td>AU</td>\n",
       "      <td>GB</td>\n",
       "      <td>XX</td>\n",
       "      <td>NaN</td>\n",
       "      <td>4.0</td>\n",
       "      <td>tusks</td>\n",
       "      <td>kg</td>\n",
       "      <td>NaN</td>\n",
       "      <td>NaN</td>\n",
       "    </tr>\n",
       "    <tr>\n",
       "      <th>1</th>\n",
       "      <td>1977</td>\n",
       "      <td>II</td>\n",
       "      <td>Loxodonta africana</td>\n",
       "      <td>Mammalia</td>\n",
       "      <td>Proboscidea</td>\n",
       "      <td>Elephantidae</td>\n",
       "      <td>Loxodonta</td>\n",
       "      <td>AU</td>\n",
       "      <td>GB</td>\n",
       "      <td>NaN</td>\n",
       "      <td>4.0</td>\n",
       "      <td>NaN</td>\n",
       "      <td>live</td>\n",
       "      <td>NaN</td>\n",
       "      <td>NaN</td>\n",
       "      <td>NaN</td>\n",
       "    </tr>\n",
       "    <tr>\n",
       "      <th>2</th>\n",
       "      <td>1977</td>\n",
       "      <td>II</td>\n",
       "      <td>Loxodonta africana</td>\n",
       "      <td>Mammalia</td>\n",
       "      <td>Proboscidea</td>\n",
       "      <td>Elephantidae</td>\n",
       "      <td>Loxodonta</td>\n",
       "      <td>BE</td>\n",
       "      <td>DE</td>\n",
       "      <td>KE</td>\n",
       "      <td>NaN</td>\n",
       "      <td>2250.0</td>\n",
       "      <td>ivory carvings</td>\n",
       "      <td>kg</td>\n",
       "      <td>NaN</td>\n",
       "      <td>NaN</td>\n",
       "    </tr>\n",
       "    <tr>\n",
       "      <th>3</th>\n",
       "      <td>1977</td>\n",
       "      <td>II</td>\n",
       "      <td>Loxodonta africana</td>\n",
       "      <td>Mammalia</td>\n",
       "      <td>Proboscidea</td>\n",
       "      <td>Elephantidae</td>\n",
       "      <td>Loxodonta</td>\n",
       "      <td>BE</td>\n",
       "      <td>GB</td>\n",
       "      <td>XX</td>\n",
       "      <td>NaN</td>\n",
       "      <td>150.0</td>\n",
       "      <td>tusks</td>\n",
       "      <td>NaN</td>\n",
       "      <td>NaN</td>\n",
       "      <td>NaN</td>\n",
       "    </tr>\n",
       "    <tr>\n",
       "      <th>4</th>\n",
       "      <td>1977</td>\n",
       "      <td>II</td>\n",
       "      <td>Loxodonta africana</td>\n",
       "      <td>Mammalia</td>\n",
       "      <td>Proboscidea</td>\n",
       "      <td>Elephantidae</td>\n",
       "      <td>Loxodonta</td>\n",
       "      <td>BE</td>\n",
       "      <td>GB</td>\n",
       "      <td>ZM</td>\n",
       "      <td>NaN</td>\n",
       "      <td>6.0</td>\n",
       "      <td>tusks</td>\n",
       "      <td>NaN</td>\n",
       "      <td>NaN</td>\n",
       "      <td>NaN</td>\n",
       "    </tr>\n",
       "  </tbody>\n",
       "</table>\n",
       "</div>"
      ],
      "text/plain": [
       "   Year App.               Taxon     Class        Order        Family  \\\n",
       "0  1977   II  Loxodonta africana  Mammalia  Proboscidea  Elephantidae   \n",
       "1  1977   II  Loxodonta africana  Mammalia  Proboscidea  Elephantidae   \n",
       "2  1977   II  Loxodonta africana  Mammalia  Proboscidea  Elephantidae   \n",
       "3  1977   II  Loxodonta africana  Mammalia  Proboscidea  Elephantidae   \n",
       "4  1977   II  Loxodonta africana  Mammalia  Proboscidea  Elephantidae   \n",
       "\n",
       "       Genus Importer Exporter Origin  Importer reported quantity  \\\n",
       "0  Loxodonta       AU       GB     XX                         NaN   \n",
       "1  Loxodonta       AU       GB    NaN                         4.0   \n",
       "2  Loxodonta       BE       DE     KE                         NaN   \n",
       "3  Loxodonta       BE       GB     XX                         NaN   \n",
       "4  Loxodonta       BE       GB     ZM                         NaN   \n",
       "\n",
       "   Exporter reported quantity            Term Unit Purpose Source  \n",
       "0                         4.0           tusks   kg     NaN    NaN  \n",
       "1                         NaN            live  NaN     NaN    NaN  \n",
       "2                      2250.0  ivory carvings   kg     NaN    NaN  \n",
       "3                       150.0           tusks  NaN     NaN    NaN  \n",
       "4                         6.0           tusks  NaN     NaN    NaN  "
      ]
     },
     "execution_count": 3,
     "metadata": {},
     "output_type": "execute_result"
    }
   ],
   "source": [
    "df.head()"
   ]
  },
  {
   "cell_type": "code",
   "execution_count": 4,
   "metadata": {},
   "outputs": [
    {
     "data": {
      "text/plain": [
       "kg           3046\n",
       "g              77\n",
       "pairs           7\n",
       "m3              1\n",
       "shipments       1\n",
       "Name: Unit, dtype: int64"
      ]
     },
     "execution_count": 4,
     "metadata": {},
     "output_type": "execute_result"
    }
   ],
   "source": [
    "tusk = df[df.Term == 'tusks']\n",
    "tusk.Unit.value_counts()"
   ]
  },
  {
   "cell_type": "code",
   "execution_count": 13,
   "metadata": {},
   "outputs": [
    {
     "data": {
      "text/plain": [
       "<matplotlib.axes._subplots.AxesSubplot at 0x1092e3f60>"
      ]
     },
     "execution_count": 13,
     "metadata": {},
     "output_type": "execute_result"
    },
    {
     "data": {
      "image/png": "[encoded data removed]",
      "text/plain": [
       "<Figure size 864x216 with 1 Axes>"
      ]
     },
     "metadata": {
      "needs_background": "light"
     },
     "output_type": "display_data"
    }
   ],
   "source": [
    "tusk.sort_values(by='Year').groupby('Year').size().plot(figsize=(12,3))"
   ]
  },
  {
   "cell_type": "code",
   "execution_count": 36,
   "metadata": {},
   "outputs": [
    {
     "data": {
      "text/plain": [
       "kg    415\n",
       "g       3\n",
       "Name: Unit, dtype: int64"
      ]
     },
     "execution_count": 36,
     "metadata": {},
     "output_type": "execute_result"
    }
   ],
   "source": [
    "hk_ex = tusk[tusk.Exporter == 'HK']\n",
    "hk_ex.Unit.value_counts()"
   ]
  },
  {
   "cell_type": "code",
   "execution_count": 38,
   "metadata": {},
   "outputs": [
    {
     "name": "stderr",
     "output_type": "stream",
     "text": [
      "/Users/grace/.pyenv/versions/3.7.1/lib/python3.7/site-packages/ipykernel_launcher.py:3: SettingWithCopyWarning: \n",
      "A value is trying to be set on a copy of a slice from a DataFrame.\n",
      "Try using .loc[row_indexer,col_indexer] = value instead\n",
      "\n",
      "See the caveats in the documentation: http://pandas.pydata.org/pandas-docs/stable/indexing.html#indexing-view-versus-copy\n",
      "  This is separate from the ipykernel package so we can avoid doing imports until\n"
     ]
    }
   ],
   "source": [
    "hk_ex[hk_ex.Unit.isna()]\n",
    "# Use exporter reportd quantity as quantity when the former is available\n",
    "hk_ex['quantity'] = hk_ex['Exporter reported quantity']\n",
    "# Use importer reportd quantity as quantity when exporter reportd quantity is not available\n",
    "hk_ex.loc[hk_ex.quantity.isnull(), 'quantity'] = hk_ex['Importer reported quantity']"
   ]
  },
  {
   "cell_type": "code",
   "execution_count": 39,
   "metadata": {},
   "outputs": [
    {
     "name": "stderr",
     "output_type": "stream",
     "text": [
      "/Users/grace/.pyenv/versions/3.7.1/lib/python3.7/site-packages/ipykernel_launcher.py:1: SettingWithCopyWarning: \n",
      "A value is trying to be set on a copy of a slice from a DataFrame.\n",
      "Try using .loc[row_indexer,col_indexer] = value instead\n",
      "\n",
      "See the caveats in the documentation: http://pandas.pydata.org/pandas-docs/stable/indexing.html#indexing-view-versus-copy\n",
      "  \"\"\"Entry point for launching an IPython kernel.\n"
     ]
    },
    {
     "data": {
      "text/plain": [
       "Importer\n",
       "JP    776024.410\n",
       "CN    124639.000\n",
       "IN     91873.000\n",
       "TW     32155.000\n",
       "MO     20350.000\n",
       "DE     16557.900\n",
       "US     15990.245\n",
       "DD     12906.000\n",
       "TH     10111.000\n",
       "SG      7187.270\n",
       "BN      4998.000\n",
       "FR      4664.000\n",
       "XX      3593.000\n",
       "ZA      2898.000\n",
       "GB      1614.000\n",
       "KR       571.000\n",
       "ID       420.000\n",
       "IT       350.000\n",
       "CH       273.000\n",
       "PH       204.000\n",
       "ES       175.000\n",
       "MY       169.000\n",
       "SZ        83.000\n",
       "CA        79.000\n",
       "NC        19.000\n",
       "ZW        18.000\n",
       "NL        16.000\n",
       "SE         6.000\n",
       "BE         6.000\n",
       "NZ         5.000\n",
       "LC         4.000\n",
       "LU         3.000\n",
       "AU         2.000\n",
       "DK         1.000\n",
       "Name: quantity_kg, dtype: float64"
      ]
     },
     "execution_count": 39,
     "metadata": {},
     "output_type": "execute_result"
    }
   ],
   "source": [
    "hk_ex['quantity_kg'] = hk_ex['quantity']\n",
    "hk_ex.loc[hk_ex.Unit == 'g', 'quantity_kg'] = hk_ex['quantity'] / 1000\n",
    "hk_ex[hk_ex.Unit == 'g']\n",
    "hk_ex.groupby('Importer').quantity_kg.sum().sort_values(ascending=False)"
   ]
  },
  {
   "cell_type": "code",
   "execution_count": 40,
   "metadata": {},
   "outputs": [
    {
     "data": {
      "text/plain": [
       "Year\n",
       "1977        11.000\n",
       "1978     54064.000\n",
       "1979      1329.556\n",
       "1980    119281.900\n",
       "1981    147185.268\n",
       "1982    172029.361\n",
       "1983    199820.060\n",
       "1984     80582.000\n",
       "1985     94924.000\n",
       "1986     36975.000\n",
       "1987     63433.000\n",
       "1988     96027.410\n",
       "1989     61919.000\n",
       "1990       333.000\n",
       "1991         4.000\n",
       "1992         1.000\n",
       "1993         5.000\n",
       "1994         1.000\n",
       "1995        29.270\n",
       "1996        10.000\n",
       "Name: quantity_kg, dtype: float64"
      ]
     },
     "execution_count": 40,
     "metadata": {},
     "output_type": "execute_result"
    }
   ],
   "source": [
    "# hk_ex.sort_values(by='Year').groupby('Year').sum('').plot(figsize=(12,3))\n",
    "hk_ex.groupby('Year').quantity_kg.sum()"
   ]
  },
  {
   "cell_type": "code",
   "execution_count": 9,
   "metadata": {},
   "outputs": [
    {
     "data": {
      "text/plain": [
       "kg    399\n",
       "Name: Unit, dtype: int64"
      ]
     },
     "execution_count": 9,
     "metadata": {},
     "output_type": "execute_result"
    }
   ],
   "source": [
    "hk_im = tusk[tusk.Importer == 'HK']\n",
    "hk_im.Unit.value_counts()"
   ]
  },
  {
   "cell_type": "code",
   "execution_count": 10,
   "metadata": {},
   "outputs": [
    {
     "name": "stderr",
     "output_type": "stream",
     "text": [
      "/Users/grace/.pyenv/versions/3.7.1/lib/python3.7/site-packages/ipykernel_launcher.py:3: SettingWithCopyWarning: \n",
      "A value is trying to be set on a copy of a slice from a DataFrame.\n",
      "Try using .loc[row_indexer,col_indexer] = value instead\n",
      "\n",
      "See the caveats in the documentation: http://pandas.pydata.org/pandas-docs/stable/indexing.html#indexing-view-versus-copy\n",
      "  This is separate from the ipykernel package so we can avoid doing imports until\n"
     ]
    }
   ],
   "source": [
    "hk_im[hk_im.Unit.isna()]\n",
    "# Use importer reportd quantity as quantity when the former is available\n",
    "hk_im['quantity'] = hk_im['Importer reported quantity']\n",
    "# Use exporter reportd quantity as quantity when importer reportd quantity is not available\n",
    "hk_im.loc[hk_im.quantity.isnull(), 'quantity'] = hk_im['Exporter reported quantity']"
   ]
  },
  {
   "cell_type": "code",
   "execution_count": 11,
   "metadata": {},
   "outputs": [
    {
     "data": {
      "text/plain": [
       "Exporter\n",
       "SD    1037415.000\n",
       "JP     460011.000\n",
       "CF     390816.000\n",
       "BE     258585.000\n",
       "CG     258258.000\n",
       "FR     243889.457\n",
       "ZA     167723.000\n",
       "SG     161510.000\n",
       "SO      95291.000\n",
       "UG      88400.000\n",
       "BI      74034.000\n",
       "GB      56297.000\n",
       "TD      54851.000\n",
       "ZM      34357.000\n",
       "TZ      31795.000\n",
       "CD      31020.000\n",
       "DE      28787.000\n",
       "KE      25184.000\n",
       "XX      22437.000\n",
       "MZ      20921.000\n",
       "DJ      10901.000\n",
       "ZW       7562.000\n",
       "CH       7330.000\n",
       "AE       6422.000\n",
       "NL       5194.840\n",
       "ET       5011.000\n",
       "CM       4827.000\n",
       "US       4820.000\n",
       "LU       4143.000\n",
       "CN       3368.000\n",
       "PT       3249.000\n",
       "BW       3109.000\n",
       "MO       1865.000\n",
       "TW       1003.000\n",
       "ES        698.700\n",
       "DD        655.000\n",
       "AT        628.530\n",
       "MW        469.000\n",
       "IN        424.000\n",
       "CI        212.000\n",
       "IT        124.000\n",
       "SI         31.930\n",
       "SE         29.900\n",
       "CA         29.000\n",
       "KR         20.000\n",
       "HU         18.000\n",
       "PL         17.000\n",
       "EE         12.000\n",
       "LT          9.000\n",
       "DK          6.000\n",
       "AU          6.000\n",
       "MC          1.000\n",
       "Name: quantity, dtype: float64"
      ]
     },
     "execution_count": 11,
     "metadata": {},
     "output_type": "execute_result"
    }
   ],
   "source": [
    "hk_im.groupby('Exporter').quantity.sum().sort_values(ascending=False)"
   ]
  },
  {
   "cell_type": "code",
   "execution_count": 41,
   "metadata": {},
   "outputs": [
    {
     "data": {
      "text/plain": [
       "Year\n",
       "1977      5223.000\n",
       "1978    385831.000\n",
       "1979     81632.000\n",
       "1980    548811.000\n",
       "1981    529417.000\n",
       "1982    463322.000\n",
       "1983    580216.000\n",
       "1984    267618.000\n",
       "1985    147851.000\n",
       "1986    150034.000\n",
       "1987    166479.000\n",
       "1988    219838.000\n",
       "1989     60534.000\n",
       "1990       595.000\n",
       "1991         1.000\n",
       "1995         2.000\n",
       "2000         3.000\n",
       "2002         4.000\n",
       "2003         1.000\n",
       "2005         4.000\n",
       "2006         2.000\n",
       "2008        97.000\n",
       "2009       102.000\n",
       "2010         9.000\n",
       "2011       256.690\n",
       "2012       133.000\n",
       "2013       241.000\n",
       "2014      4209.667\n",
       "2015       742.000\n",
       "2016       389.000\n",
       "2017       215.000\n",
       "Name: quantity, dtype: float64"
      ]
     },
     "execution_count": 41,
     "metadata": {},
     "output_type": "execute_result"
    }
   ],
   "source": [
    "hk_im.groupby('Year').quantity.sum()"
   ]
  },
  {
   "cell_type": "code",
   "execution_count": 48,
   "metadata": {},
   "outputs": [],
   "source": [
    "s1 = pd.DataFrame(hk_ex.groupby('Year').quantity_kg.sum())\n",
    "s2 = pd.DataFrame(hk_im.groupby('Year').quantity.sum())\n",
    "compare = pd.concat([s1, s2], axis=1)\n",
    "compare.columns = ['export', 'import']"
   ]
  },
  {
   "cell_type": "code",
   "execution_count": 53,
   "metadata": {},
   "outputs": [
    {
     "data": {
      "image/png": "[encoded data removed]",
      "text/plain": [
       "<Figure size 864x216 with 1 Axes>"
      ]
     },
     "metadata": {
      "needs_background": "light"
     },
     "output_type": "display_data"
    }
   ],
   "source": [
    "compare.plot(figsize=(12,3))\n",
    "plt.savefig(\"year changes.png\")"
   ]
  },
  {
   "cell_type": "code",
   "execution_count": null,
   "metadata": {},
   "outputs": [],
   "source": []
  }
 ],
 "metadata": {
  "kernelspec": {
   "display_name": "Python 3",
   "language": "python",
   "name": "python3"
  },
  "language_info": {
   "codemirror_mode": {
    "name": "ipython",
    "version": 3
   },
   "file_extension": ".py",
   "mimetype": "text/x-python",
   "name": "python",
   "nbconvert_exporter": "python",
   "pygments_lexer": "ipython3",
   "version": "3.7.1"
  }
 },
 "nbformat": 4,
 "nbformat_minor": 2
}
