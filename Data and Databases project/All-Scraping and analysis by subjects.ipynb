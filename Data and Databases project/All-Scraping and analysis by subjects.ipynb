{
 "cells": [
  {
   "cell_type": "code",
   "execution_count": 1,
   "metadata": {},
   "outputs": [],
   "source": [
    "import pandas as pd\n",
    "import numpy as np\n",
    "import requests\n",
    "from bs4 import BeautifulSoup"
   ]
  },
  {
   "cell_type": "code",
   "execution_count": 2,
   "metadata": {},
   "outputs": [],
   "source": [
    "rows = []\n",
    "for year in range(2017, 2020):\n",
    "    for page_num in range(1, 5):\n",
    "        url = f\"https://www.sfc.hk/edistributionWeb/gateway/EN/news-and-announcements/news/enforcement-news/?year={year}&page={page_num}\"\n",
    "    \n",
    "        response = requests.get(url)\n",
    "        doc = BeautifulSoup(response.text)\n",
    "\n",
    "        cases = doc.find_all('tr')\n",
    "        for case in cases[1:]:\n",
    "            subjects = case.find_all('a')\n",
    "            for subject in subjects[:-1]:\n",
    "                row = {}\n",
    "                row['Date'] = case.find('td').text.strip()\n",
    "                row['Subject'] = subject.text.strip()\n",
    "                row['Action'] = (case.find_all('a')[-1].text.strip())\n",
    "                row['URL'] = case.find_all('a')[-1]['href']\n",
    "                rows.append(row)\n",
    "\n",
    "df = pd.DataFrame(rows)"
   ]
  },
  {
   "cell_type": "code",
   "execution_count": 3,
   "metadata": {},
   "outputs": [],
   "source": [
    "df = df[['Date', 'Subject', 'Action', 'URL']]"
   ]
  },
  {
   "cell_type": "markdown",
   "metadata": {},
   "source": [
    "# Scraping each page"
   ]
  },
  {
   "cell_type": "code",
   "execution_count": 4,
   "metadata": {},
   "outputs": [],
   "source": [
    "def scrape_page(row):\n",
    "    url = f\"https://www.sfc.hk/edistributionWeb/gateway/EN/news-and-announcements/news/enforcement-news/{row['URL']}\"\n",
    "    \n",
    "    response = requests.get(url)\n",
    "    doc = BeautifulSoup(response.text)\n",
    "\n",
    "    page = {}\n",
    "    Summary = doc.find_all('p')[1].text.strip()\n",
    "    page['Summary'] = Summary = doc.find_all('p')[1].text.strip()\n",
    "\n",
    "    return pd.Series(page)"
   ]
  },
  {
   "cell_type": "code",
   "execution_count": 5,
   "metadata": {},
   "outputs": [],
   "source": [
    "scraped_df = df.apply(scrape_page, axis=1)"
   ]
  },
  {
   "cell_type": "code",
   "execution_count": 6,
   "metadata": {},
   "outputs": [],
   "source": [
    "df = df.merge(scraped_df, left_index=True, right_index=True)"
   ]
  },
  {
   "cell_type": "code",
   "execution_count": 7,
   "metadata": {},
   "outputs": [],
   "source": [
    "df.loc[df['Action'].str.contains(\"restriction notices\"),'Category'] = 'Targetting clients'\n",
    "df.loc[df['Action'].str.contains(\"regulatory breaches\"),'Category'] = 'Regulatory breaches'\n",
    "court_key = [\"Tribunal\", \"Court\"]\n",
    "for w in court_key:\n",
    "    df.loc[df['Summary'].str.contains(w),'Category'] = 'Court'\n",
    "df.loc[df['Summary'].str.contains(\"regulatory breaches\"),'Category'] = 'Regulatory breaches'\n",
    "df.loc[df['Action'].str.contains(\"ban\\b\"),'Category'] = 'Banned from industry'\n",
    "df.loc[df['Action'].str.contains(\"sponsor failures\"),'Category'] = 'Sponsor failures'\n",
    "df.loc[df['Action'].str.contains(\"suspend\"),'Category'] = 'License suspension'\n",
    "df.loc[df['Action'].str.contains(\"revoke\"),'Category'] = 'License revocation'\n",
    "df.loc[df['Action'].str.contains(\"short selling\"),'Category'] = 'Illegal short selling'\n",
    "df.loc[df['Action'].str.contains(\"anti-money laundering\"),'Category'] = 'AML related'\n",
    "df.loc[df['Action'].str.contains(\"cross trade related failures\"),'Category'] = 'Cross trade related failures'\n",
    "df.loc[df['Summary'].str.contains(\"proper records\"),'Category'] = 'Record failure'\n",
    "df.loc[df['Action'].str.contains(\"trading systems\"),'Category'] = 'Trading system failure'\n",
    "df.loc[df['Summary'].str.contains(\"required registration\"),'Category'] = 'Without registration'\n",
    "df.loc[df['Summary'].str.contains(\"internal control\"),'Category'] = 'Internal control failure'"
   ]
  },
  {
   "cell_type": "code",
   "execution_count": 8,
   "metadata": {},
   "outputs": [],
   "source": [
    "df['Fine'] = df.Action.str.extract(\".*\\$(.*) million.*\", expand=False)\n",
    "df.loc[df['Fine'].isnull(),'Fine'] = df.Action.str.extract(\".*\\$(.*\\d).*\", expand=False)\n",
    "df['Fine'] = df.Fine.str.replace(',', '')\n",
    "df['Fine'] = df.Fine.astype(float)\n",
    "df.loc[df['Fine'] < 1000,'Fine'] = df.Fine * 1000000"
   ]
  },
  {
   "cell_type": "code",
   "execution_count": 9,
   "metadata": {},
   "outputs": [],
   "source": [
    "df['Penalty_Period'] = df.Summary.str.extract(\".*for (.*) month.*\", expand=False)\n",
    "df.loc[df['Penalty_Period'].isnull(),'Penalty_Period'] = df.Action.str.extract(\".*for (.*) year.*\", expand=False)\n",
    "df.loc[df['Penalty_Period'].isnull(),'Penalty_Period'] = df.Action.str.extract(\".*for (life).*\", expand=False)\n",
    "df['Penalty_Period'] = df.Penalty_Period.replace({\n",
    "    'one': 1,\n",
    "    'two': 2,\n",
    "    'three': 3,\n",
    "    'four': 4,\n",
    "    'five': 5,\n",
    "    'six': 6,\n",
    "    'seven': 7,\n",
    "    'eight': 8,\n",
    "    'nine': 9,\n",
    "    '10': 10,\n",
    "    'life': 1000\n",
    "})\n",
    "df.loc[df['Action'].str.contains(\"year\"),'Penalty_Period'] = df.Penalty_Period * 12"
   ]
  },
  {
   "cell_type": "code",
   "execution_count": 10,
   "metadata": {},
   "outputs": [],
   "source": [
    "df.to_csv(\"All-analysis by case.csv\", index=False)"
   ]
  }
 ],
 "metadata": {
  "kernelspec": {
   "display_name": "Python 3",
   "language": "python",
   "name": "python3"
  },
  "language_info": {
   "codemirror_mode": {
    "name": "ipython",
    "version": 3
   },
   "file_extension": ".py",
   "mimetype": "text/x-python",
   "name": "python",
   "nbconvert_exporter": "python",
   "pygments_lexer": "ipython3",
   "version": "3.7.1"
  }
 },
 "nbformat": 4,
 "nbformat_minor": 2
}
